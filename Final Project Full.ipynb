{
 "cells": [
  {
   "cell_type": "code",
   "execution_count": null,
   "id": "c3e974ff-b8d5-4e8f-b4eb-cd57c64daa19",
   "metadata": {},
   "outputs": [],
   "source": [
    "import pandas as pd\n",
    "import numpy as np\n",
    "import matplotlib.pyplot as plt\n",
    "from keras.models import Sequential\n",
    "from keras.layers import Convolution2D\n",
    "from keras.layers import MaxPooling2D\n",
    "from keras.layers import Flatten\n",
    "from keras.layers import Dense\n",
    "from keras.layers import Dropout\n",
    "from tensorflow.keras.optimizers import SGD\n",
    "from tensorflow.keras.optimizers import Adam\n",
    "from tensorflow.keras.preprocessing import image\n",
    "from tensorflow.keras.preprocessing.image import ImageDataGenerator\n",
    "from sklearn.model_selection import train_test_split"
   ]
  },
  {
   "cell_type": "code",
   "execution_count": null,
   "id": "4d3e53d1-8ef4-404a-9ee3-a486c97e2edb",
   "metadata": {},
   "outputs": [],
   "source": [
    "train_datagen = ImageDataGenerator(rescale = 1./255,\n",
    "                                  shear_range = 0.2,\n",
    "                                  zoom_range = 0.2, \n",
    "                                  horizontal_flip = True)\n",
    "\n",
    "test_datagen = ImageDataGenerator(rescale = 1./255)\n",
    "\n",
    "training_set = train_datagen.flow_from_directory('images/train',\n",
    "                                                target_size = (64,64),\n",
    "                                                batch_size = 64,\n",
    "                                                class_mode = 'binary')\n",
    "\n",
    "test_set = test_datagen.flow_from_directory('images/test',\n",
    "                                           target_size = (64,64),\n",
    "                                           batch_size = 64,\n",
    "                                           class_mode = 'binary')"
   ]
  },
  {
   "cell_type": "code",
   "execution_count": 3,
   "id": "4229d055-f378-41f6-b670-fb06f4c82f44",
   "metadata": {},
   "outputs": [],
   "source": [
    "X_train, X_test = train_test_split(training_set, test_size = 0.2)"
   ]
  },
  {
   "cell_type": "code",
   "execution_count": 4,
   "id": "2dcdab83-7b84-4db7-b432-9f00622e5cb7",
   "metadata": {},
   "outputs": [],
   "source": [
    "# Initialising the CNN\n",
    "classifier = Sequential()\n",
    "\n",
    "# Step 1 - Convolution 1\n",
    "classifier.add(Convolution2D(32,(3,3), input_shape = (64,64,3), activation = 'relu'))\n",
    "classifier.add(Convolution2D(32,(3,3), activation = 'relu'))\n",
    "classifier.add(Dropout(0.2))\n",
    "\n",
    "# Step 2 - Pooling 1\n",
    "classifier.add(MaxPooling2D(pool_size = (2,2)))\n",
    "\n",
    "# Step 3 - Convolution 2\n",
    "classifier.add(Convolution2D(64,(3,3), padding='same', activation = 'relu'))\n",
    "classifier.add(Convolution2D(64,(3,3), padding='same', activation = 'relu'))\n",
    "classifier.add(Dropout(0.2))\n",
    "\n",
    "# Step 4 - Pooling 2\n",
    "classifier.add(MaxPooling2D(pool_size = (2,2)))\n",
    "\n",
    "# Step 5 - Convolution 3\n",
    "classifier.add(Convolution2D(128,(3,3), padding='same', activation = 'relu'))\n",
    "classifier.add(Convolution2D(128,(3,3), padding='same', activation = 'relu'))\n",
    "classifier.add(Dropout(0.2))\n",
    "\n",
    "# Step 6 - Pooling 3\n",
    "classifier.add(MaxPooling2D(pool_size = (2,2)))\n",
    "\n",
    "# Step 3 - Flattening\n",
    "classifier.add(Flatten())\n",
    "#Step 4 - Full Connection\n",
    "classifier.add(Dense(128, activation = 'relu'))\n",
    "classifier.add(Dropout(0.5))\n",
    "classifier.add(Dense(1, activation = 'sigmoid'))\n",
    "\n",
    "# Compiling the CNN\n",
    "# opt = SGD(learning_rate=0.001, momentum=0.9)\n",
    "opt = Adam(learning_rate=0.003, beta_1=0.9, beta_2=0.999, epsilon=1e-07, amsgrad=False,name=\"Adam\",)\n",
    "classifier.compile(optimizer = opt, loss = 'binary_crossentropy', metrics = ['accuracy'])"
   ]
  },
  {
   "cell_type": "code",
   "execution_count": null,
   "id": "2c57a3d4-61f5-4bbd-87d6-d777f6b87cad",
   "metadata": {},
   "outputs": [
    {
     "name": "stdout",
     "output_type": "stream",
     "text": [
      "Epoch 1/200\n",
      "75/75 [==============================] - 54s 726ms/step - loss: 0.0787 - accuracy: 0.9900 - val_loss: 0.2172 - val_accuracy: 0.9421\n",
      "Epoch 2/200\n",
      "75/75 [==============================] - 49s 658ms/step - loss: 0.0810 - accuracy: 0.9877 - val_loss: 0.2209 - val_accuracy: 0.9421\n",
      "Epoch 3/200\n",
      "75/75 [==============================] - 44s 581ms/step - loss: 0.5616 - accuracy: 0.9875 - val_loss: 0.2422 - val_accuracy: 0.9421\n",
      "Epoch 4/200\n",
      "75/75 [==============================] - 47s 634ms/step - loss: 0.1546 - accuracy: 0.9869 - val_loss: 0.2646 - val_accuracy: 0.9421\n",
      "Epoch 5/200\n",
      "75/75 [==============================] - 46s 618ms/step - loss: 0.0911 - accuracy: 0.9887 - val_loss: 0.2596 - val_accuracy: 0.9421\n",
      "Epoch 6/200\n",
      "75/75 [==============================] - 45s 600ms/step - loss: 0.0958 - accuracy: 0.9844 - val_loss: 0.2232 - val_accuracy: 0.9421\n",
      "Epoch 7/200\n",
      "75/75 [==============================] - 44s 585ms/step - loss: 0.0831 - accuracy: 0.9859 - val_loss: 0.2218 - val_accuracy: 0.9421\n",
      "Epoch 8/200\n",
      "75/75 [==============================] - 44s 596ms/step - loss: 0.0876 - accuracy: 0.9852 - val_loss: 0.2392 - val_accuracy: 0.9421\n",
      "Epoch 9/200\n",
      "75/75 [==============================] - 43s 575ms/step - loss: 0.0806 - accuracy: 0.9861 - val_loss: 0.2350 - val_accuracy: 0.9421\n",
      "Epoch 10/200\n",
      "75/75 [==============================] - 44s 589ms/step - loss: 0.0899 - accuracy: 0.9840 - val_loss: 0.2464 - val_accuracy: 0.9421\n",
      "Epoch 11/200\n",
      "75/75 [==============================] - 42s 567ms/step - loss: 0.0641 - accuracy: 0.9896 - val_loss: 0.2488 - val_accuracy: 0.9421\n",
      "Epoch 12/200\n",
      "75/75 [==============================] - 44s 595ms/step - loss: 0.0717 - accuracy: 0.9887 - val_loss: 0.2431 - val_accuracy: 0.9421\n",
      "Epoch 13/200\n",
      "75/75 [==============================] - 44s 590ms/step - loss: 0.0809 - accuracy: 0.9862 - val_loss: 0.2270 - val_accuracy: 0.9421\n",
      "Epoch 14/200\n",
      "75/75 [==============================] - 45s 605ms/step - loss: 0.0818 - accuracy: 0.9856 - val_loss: 0.2530 - val_accuracy: 0.9421\n",
      "Epoch 15/200\n",
      "75/75 [==============================] - 46s 616ms/step - loss: 0.0761 - accuracy: 0.9869 - val_loss: 0.2435 - val_accuracy: 0.9421\n",
      "Epoch 16/200\n",
      "75/75 [==============================] - 47s 625ms/step - loss: 0.0746 - accuracy: 0.9871 - val_loss: 0.2460 - val_accuracy: 0.9421\n",
      "Epoch 17/200\n",
      "75/75 [==============================] - 45s 597ms/step - loss: 0.0576 - accuracy: 0.9906 - val_loss: 0.2333 - val_accuracy: 0.9421\n",
      "Epoch 18/200\n",
      "75/75 [==============================] - ETA: 0s - loss: 0.0584 - accuracy: 0.9906"
     ]
    }
   ],
   "source": [
    "history = classifier.fit(training_set,\n",
    "                                  steps_per_epoch = 75,\n",
    "                                  epochs = 200,\n",
    "                                  validation_data = test_set)"
   ]
  },
  {
   "cell_type": "code",
   "execution_count": 1,
   "id": "ccbf0c74-41b0-4154-b79c-3f808be4ac8b",
   "metadata": {},
   "outputs": [
    {
     "ename": "NameError",
     "evalue": "name 'plt' is not defined",
     "output_type": "error",
     "traceback": [
      "\u001b[1;31m---------------------------------------------------------------------------\u001b[0m",
      "\u001b[1;31mNameError\u001b[0m                                 Traceback (most recent call last)",
      "\u001b[1;32m~\\AppData\\Local\\Temp/ipykernel_3764/3037504578.py\u001b[0m in \u001b[0;36m<module>\u001b[1;34m\u001b[0m\n\u001b[0;32m      1\u001b[0m \u001b[1;31m# plot history\u001b[0m\u001b[1;33m\u001b[0m\u001b[1;33m\u001b[0m\u001b[1;33m\u001b[0m\u001b[0m\n\u001b[1;32m----> 2\u001b[1;33m \u001b[0mplt\u001b[0m\u001b[1;33m.\u001b[0m\u001b[0mplot\u001b[0m\u001b[1;33m(\u001b[0m\u001b[0mhistory\u001b[0m\u001b[1;33m.\u001b[0m\u001b[0mhistory\u001b[0m\u001b[1;33m[\u001b[0m\u001b[1;34m'loss'\u001b[0m\u001b[1;33m]\u001b[0m\u001b[1;33m,\u001b[0m \u001b[0mlabel\u001b[0m \u001b[1;33m=\u001b[0m \u001b[1;34m'train'\u001b[0m\u001b[1;33m)\u001b[0m\u001b[1;33m\u001b[0m\u001b[1;33m\u001b[0m\u001b[0m\n\u001b[0m\u001b[0;32m      3\u001b[0m \u001b[0mplt\u001b[0m\u001b[1;33m.\u001b[0m\u001b[0mplot\u001b[0m\u001b[1;33m(\u001b[0m\u001b[0mhistory\u001b[0m\u001b[1;33m.\u001b[0m\u001b[0mhistory\u001b[0m\u001b[1;33m[\u001b[0m\u001b[1;34m'val_loss'\u001b[0m\u001b[1;33m]\u001b[0m\u001b[1;33m,\u001b[0m \u001b[0mlabel\u001b[0m \u001b[1;33m=\u001b[0m \u001b[1;34m'test'\u001b[0m\u001b[1;33m)\u001b[0m\u001b[1;33m\u001b[0m\u001b[1;33m\u001b[0m\u001b[0m\n\u001b[0;32m      4\u001b[0m \u001b[0mplt\u001b[0m\u001b[1;33m.\u001b[0m\u001b[0mlegend\u001b[0m\u001b[1;33m(\u001b[0m\u001b[1;33m)\u001b[0m\u001b[1;33m\u001b[0m\u001b[1;33m\u001b[0m\u001b[0m\n\u001b[0;32m      5\u001b[0m \u001b[0mplt\u001b[0m\u001b[1;33m.\u001b[0m\u001b[0mshow\u001b[0m\u001b[1;33m(\u001b[0m\u001b[1;33m)\u001b[0m\u001b[1;33m\u001b[0m\u001b[1;33m\u001b[0m\u001b[0m\n",
      "\u001b[1;31mNameError\u001b[0m: name 'plt' is not defined"
     ]
    }
   ],
   "source": [
    "# plot history\n",
    "plt.plot(history.history['loss'], label = 'train')\n",
    "plt.plot(history.history['val_loss'], label = 'test')\n",
    "plt.legend()\n",
    "plt.show()"
   ]
  },
  {
   "cell_type": "code",
   "execution_count": 13,
   "id": "760fecad-6a8e-4837-bba7-6f479a9dd471",
   "metadata": {},
   "outputs": [],
   "source": [
    "def image_test(picture_name):\n",
    "    # Loading an image from the disk\n",
    "    test_image = image.load_img(picture_name, target_size = (64,64))\n",
    "\n",
    "    # Converting the image to a numpy array\n",
    "    test_image = image.img_to_array(test_image)\n",
    "    test_image = np.expand_dims(test_image, axis = 0)\n",
    "    test_image = test_image / 255\n",
    "    result = classifier.predict(test_image)\n",
    "\n",
    "    # our cut off\n",
    "    \n",
    "    if result[0][0] >= 0.5:\n",
    "        prediction = 'Dandelion'\n",
    "    else:\n",
    "        prediction = 'Not a Dandelion'\n",
    "    print(prediction)\n",
    "    print(result[0][0])"
   ]
  },
  {
   "cell_type": "code",
   "execution_count": 14,
   "id": "db23dd18-2665-49bf-b474-e36eef44be6d",
   "metadata": {},
   "outputs": [
    {
     "name": "stdout",
     "output_type": "stream",
     "text": [
      "Dandelion\n",
      "0.98754543\n",
      "Dandelion\n",
      "0.98754543\n",
      "Dandelion\n",
      "0.98754543\n",
      "Dandelion\n",
      "0.98754543\n"
     ]
    }
   ],
   "source": [
    "image_test('test_image.jpg')\n",
    "\n",
    "image_test('random_dog.png')\n",
    "image_test('16643944275_3cd4cd966c.jpg')"
   ]
  },
  {
   "cell_type": "code",
   "execution_count": 15,
   "id": "7b317e0d-5efd-4561-b187-9d5dbff43947",
   "metadata": {},
   "outputs": [
    {
     "name": "stdout",
     "output_type": "stream",
     "text": [
      "Dandelion\n",
      "0.98754543\n"
     ]
    }
   ],
   "source": [
    "image_test('test_image2.jpg')"
   ]
  },
  {
   "cell_type": "code",
   "execution_count": null,
   "id": "2d41a61f-de7c-40d6-b13e-9b2c69a52328",
   "metadata": {},
   "outputs": [],
   "source": []
  },
  {
   "cell_type": "code",
   "execution_count": null,
   "id": "2fb5b471-30c6-41ca-bf17-1ec843f33619",
   "metadata": {},
   "outputs": [],
   "source": []
  },
  {
   "cell_type": "code",
   "execution_count": null,
   "id": "f490f5cd-408f-41cb-9715-84bb6428b279",
   "metadata": {},
   "outputs": [],
   "source": []
  }
 ],
 "metadata": {
  "kernelspec": {
   "display_name": "Python 3 (ipykernel)",
   "language": "python",
   "name": "python3"
  },
  "language_info": {
   "codemirror_mode": {
    "name": "ipython",
    "version": 3
   },
   "file_extension": ".py",
   "mimetype": "text/x-python",
   "name": "python",
   "nbconvert_exporter": "python",
   "pygments_lexer": "ipython3",
   "version": "3.8.11"
  }
 },
 "nbformat": 4,
 "nbformat_minor": 5
}
